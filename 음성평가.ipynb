{
  "cells": [
    {
      "cell_type": "code",
      "execution_count": 1,
      "metadata": {
        "colab": {
          "base_uri": "https://localhost:8080/"
        },
        "id": "zjXfvQ_Mkz9j",
        "outputId": "89078d95-8125-4644-aad6-d628bf55fdec"
      },
      "outputs": [
        {
          "output_type": "stream",
          "name": "stdout",
          "text": [
            "Looking in indexes: https://pypi.org/simple, https://us-python.pkg.dev/colab-wheels/public/simple/\n",
            "Requirement already satisfied: firebase_admin in /usr/local/lib/python3.10/dist-packages (5.3.0)\n",
            "Requirement already satisfied: cachecontrol>=0.12.6 in /usr/local/lib/python3.10/dist-packages (from firebase_admin) (0.12.11)\n",
            "Requirement already satisfied: google-api-python-client>=1.7.8 in /usr/local/lib/python3.10/dist-packages (from firebase_admin) (2.84.0)\n",
            "Requirement already satisfied: google-cloud-storage>=1.37.1 in /usr/local/lib/python3.10/dist-packages (from firebase_admin) (2.8.0)\n",
            "Requirement already satisfied: google-api-core[grpc]<3.0.0dev,>=1.22.1 in /usr/local/lib/python3.10/dist-packages (from firebase_admin) (2.11.0)\n",
            "Requirement already satisfied: google-cloud-firestore>=2.1.0 in /usr/local/lib/python3.10/dist-packages (from firebase_admin) (2.11.0)\n",
            "Requirement already satisfied: requests in /usr/local/lib/python3.10/dist-packages (from cachecontrol>=0.12.6->firebase_admin) (2.27.1)\n",
            "Requirement already satisfied: msgpack>=0.5.2 in /usr/local/lib/python3.10/dist-packages (from cachecontrol>=0.12.6->firebase_admin) (1.0.5)\n",
            "Requirement already satisfied: googleapis-common-protos<2.0dev,>=1.56.2 in /usr/local/lib/python3.10/dist-packages (from google-api-core[grpc]<3.0.0dev,>=1.22.1->firebase_admin) (1.59.0)\n",
            "Requirement already satisfied: protobuf!=3.20.0,!=3.20.1,!=4.21.0,!=4.21.1,!=4.21.2,!=4.21.3,!=4.21.4,!=4.21.5,<5.0.0dev,>=3.19.5 in /usr/local/lib/python3.10/dist-packages (from google-api-core[grpc]<3.0.0dev,>=1.22.1->firebase_admin) (3.20.3)\n",
            "Requirement already satisfied: google-auth<3.0dev,>=2.14.1 in /usr/local/lib/python3.10/dist-packages (from google-api-core[grpc]<3.0.0dev,>=1.22.1->firebase_admin) (2.17.3)\n",
            "Requirement already satisfied: grpcio<2.0dev,>=1.33.2 in /usr/local/lib/python3.10/dist-packages (from google-api-core[grpc]<3.0.0dev,>=1.22.1->firebase_admin) (1.54.0)\n",
            "Requirement already satisfied: grpcio-status<2.0dev,>=1.33.2 in /usr/local/lib/python3.10/dist-packages (from google-api-core[grpc]<3.0.0dev,>=1.22.1->firebase_admin) (1.48.2)\n",
            "Requirement already satisfied: httplib2<1dev,>=0.15.0 in /usr/local/lib/python3.10/dist-packages (from google-api-python-client>=1.7.8->firebase_admin) (0.21.0)\n",
            "Requirement already satisfied: google-auth-httplib2>=0.1.0 in /usr/local/lib/python3.10/dist-packages (from google-api-python-client>=1.7.8->firebase_admin) (0.1.0)\n",
            "Requirement already satisfied: uritemplate<5,>=3.0.1 in /usr/local/lib/python3.10/dist-packages (from google-api-python-client>=1.7.8->firebase_admin) (4.1.1)\n",
            "Requirement already satisfied: google-cloud-core<3.0.0dev,>=1.4.1 in /usr/local/lib/python3.10/dist-packages (from google-cloud-firestore>=2.1.0->firebase_admin) (2.3.2)\n",
            "Requirement already satisfied: proto-plus<2.0.0dev,>=1.22.0 in /usr/local/lib/python3.10/dist-packages (from google-cloud-firestore>=2.1.0->firebase_admin) (1.22.2)\n",
            "Requirement already satisfied: google-resumable-media>=2.3.2 in /usr/local/lib/python3.10/dist-packages (from google-cloud-storage>=1.37.1->firebase_admin) (2.5.0)\n",
            "Requirement already satisfied: cachetools<6.0,>=2.0.0 in /usr/local/lib/python3.10/dist-packages (from google-auth<3.0dev,>=2.14.1->google-api-core[grpc]<3.0.0dev,>=1.22.1->firebase_admin) (5.3.0)\n",
            "Requirement already satisfied: pyasn1-modules>=0.2.1 in /usr/local/lib/python3.10/dist-packages (from google-auth<3.0dev,>=2.14.1->google-api-core[grpc]<3.0.0dev,>=1.22.1->firebase_admin) (0.3.0)\n",
            "Requirement already satisfied: six>=1.9.0 in /usr/local/lib/python3.10/dist-packages (from google-auth<3.0dev,>=2.14.1->google-api-core[grpc]<3.0.0dev,>=1.22.1->firebase_admin) (1.16.0)\n",
            "Requirement already satisfied: rsa<5,>=3.1.4 in /usr/local/lib/python3.10/dist-packages (from google-auth<3.0dev,>=2.14.1->google-api-core[grpc]<3.0.0dev,>=1.22.1->firebase_admin) (4.9)\n",
            "Requirement already satisfied: google-crc32c<2.0dev,>=1.0 in /usr/local/lib/python3.10/dist-packages (from google-resumable-media>=2.3.2->google-cloud-storage>=1.37.1->firebase_admin) (1.5.0)\n",
            "Requirement already satisfied: pyparsing!=3.0.0,!=3.0.1,!=3.0.2,!=3.0.3,<4,>=2.4.2 in /usr/local/lib/python3.10/dist-packages (from httplib2<1dev,>=0.15.0->google-api-python-client>=1.7.8->firebase_admin) (3.0.9)\n",
            "Requirement already satisfied: urllib3<1.27,>=1.21.1 in /usr/local/lib/python3.10/dist-packages (from requests->cachecontrol>=0.12.6->firebase_admin) (1.26.15)\n",
            "Requirement already satisfied: certifi>=2017.4.17 in /usr/local/lib/python3.10/dist-packages (from requests->cachecontrol>=0.12.6->firebase_admin) (2022.12.7)\n",
            "Requirement already satisfied: charset-normalizer~=2.0.0 in /usr/local/lib/python3.10/dist-packages (from requests->cachecontrol>=0.12.6->firebase_admin) (2.0.12)\n",
            "Requirement already satisfied: idna<4,>=2.5 in /usr/local/lib/python3.10/dist-packages (from requests->cachecontrol>=0.12.6->firebase_admin) (3.4)\n",
            "Requirement already satisfied: pyasn1<0.6.0,>=0.4.6 in /usr/local/lib/python3.10/dist-packages (from pyasn1-modules>=0.2.1->google-auth<3.0dev,>=2.14.1->google-api-core[grpc]<3.0.0dev,>=1.22.1->firebase_admin) (0.5.0)\n"
          ]
        }
      ],
      "source": [
        "!pip install firebase_admin"
      ]
    },
    {
      "cell_type": "code",
      "execution_count": 2,
      "metadata": {
        "colab": {
          "base_uri": "https://localhost:8080/"
        },
        "id": "8AOr3mEyk4Vw",
        "outputId": "0026ec5c-3344-4b8a-83fa-ef46b092f38b"
      },
      "outputs": [
        {
          "output_type": "stream",
          "name": "stdout",
          "text": [
            "Looking in indexes: https://pypi.org/simple, https://us-python.pkg.dev/colab-wheels/public/simple/\n",
            "Collecting konlpy\n",
            "  Downloading konlpy-0.6.0-py2.py3-none-any.whl (19.4 MB)\n",
            "\u001b[2K     \u001b[90m━━━━━━━━━━━━━━━━━━━━━━━━━━━━━━━━━━━━━━━━\u001b[0m \u001b[32m19.4/19.4 MB\u001b[0m \u001b[31m46.6 MB/s\u001b[0m eta \u001b[36m0:00:00\u001b[0m\n",
            "\u001b[?25hCollecting JPype1>=0.7.0 (from konlpy)\n",
            "  Downloading JPype1-1.4.1-cp310-cp310-manylinux_2_12_x86_64.manylinux2010_x86_64.whl (465 kB)\n",
            "\u001b[2K     \u001b[90m━━━━━━━━━━━━━━━━━━━━━━━━━━━━━━━━━━━━━━\u001b[0m \u001b[32m465.3/465.3 kB\u001b[0m \u001b[31m26.5 MB/s\u001b[0m eta \u001b[36m0:00:00\u001b[0m\n",
            "\u001b[?25hRequirement already satisfied: lxml>=4.1.0 in /usr/local/lib/python3.10/dist-packages (from konlpy) (4.9.2)\n",
            "Requirement already satisfied: numpy>=1.6 in /usr/local/lib/python3.10/dist-packages (from konlpy) (1.22.4)\n",
            "Requirement already satisfied: packaging in /usr/local/lib/python3.10/dist-packages (from JPype1>=0.7.0->konlpy) (23.1)\n",
            "Installing collected packages: JPype1, konlpy\n",
            "Successfully installed JPype1-1.4.1 konlpy-0.6.0\n"
          ]
        }
      ],
      "source": [
        "pip install konlpy"
      ]
    },
    {
      "cell_type": "code",
      "execution_count": 3,
      "metadata": {
        "colab": {
          "base_uri": "https://localhost:8080/"
        },
        "id": "SvLp2wqvk5na",
        "outputId": "441771db-f305-44fd-d791-fa21c30a8098"
      },
      "outputs": [
        {
          "output_type": "stream",
          "name": "stdout",
          "text": [
            "Looking in indexes: https://pypi.org/simple, https://us-python.pkg.dev/colab-wheels/public/simple/\n",
            "Collecting git+https://github.com/linto-ai/whisper-timestamped\n",
            "  Cloning https://github.com/linto-ai/whisper-timestamped to /tmp/pip-req-build-92mekexl\n",
            "  Running command git clone --filter=blob:none --quiet https://github.com/linto-ai/whisper-timestamped /tmp/pip-req-build-92mekexl\n",
            "  Resolved https://github.com/linto-ai/whisper-timestamped to commit 2c55305d6aa53f0c0fa1fe63fc85c33bfa60e963\n",
            "  Preparing metadata (setup.py) ... \u001b[?25l\u001b[?25hdone\n",
            "Requirement already satisfied: Cython in /usr/local/lib/python3.10/dist-packages (from whisper-timestamped==1.12.20) (0.29.34)\n",
            "Collecting dtw-python (from whisper-timestamped==1.12.20)\n",
            "  Downloading dtw_python-1.3.0-cp310-cp310-manylinux_2_17_x86_64.manylinux2014_x86_64.whl (645 kB)\n",
            "\u001b[2K     \u001b[90m━━━━━━━━━━━━━━━━━━━━━━━━━━━━━━━━━━━━━━\u001b[0m \u001b[32m645.5/645.5 kB\u001b[0m \u001b[31m10.5 MB/s\u001b[0m eta \u001b[36m0:00:00\u001b[0m\n",
            "\u001b[?25hCollecting openai-whisper (from whisper-timestamped==1.12.20)\n",
            "  Downloading openai-whisper-20230314.tar.gz (792 kB)\n",
            "\u001b[2K     \u001b[90m━━━━━━━━━━━━━━━━━━━━━━━━━━━━━━━━━━━━━━\u001b[0m \u001b[32m792.9/792.9 kB\u001b[0m \u001b[31m40.8 MB/s\u001b[0m eta \u001b[36m0:00:00\u001b[0m\n",
            "\u001b[?25h  Installing build dependencies ... \u001b[?25l\u001b[?25hdone\n",
            "  Getting requirements to build wheel ... \u001b[?25l\u001b[?25hdone\n",
            "  Preparing metadata (pyproject.toml) ... \u001b[?25l\u001b[?25hdone\n",
            "Requirement already satisfied: numpy>=1.19 in /usr/local/lib/python3.10/dist-packages (from dtw-python->whisper-timestamped==1.12.20) (1.22.4)\n",
            "Requirement already satisfied: scipy>=1.1 in /usr/local/lib/python3.10/dist-packages (from dtw-python->whisper-timestamped==1.12.20) (1.10.1)\n",
            "Requirement already satisfied: triton==2.0.0 in /usr/local/lib/python3.10/dist-packages (from openai-whisper->whisper-timestamped==1.12.20) (2.0.0)\n",
            "Requirement already satisfied: numba in /usr/local/lib/python3.10/dist-packages (from openai-whisper->whisper-timestamped==1.12.20) (0.56.4)\n",
            "Requirement already satisfied: torch in /usr/local/lib/python3.10/dist-packages (from openai-whisper->whisper-timestamped==1.12.20) (2.0.1+cu118)\n",
            "Requirement already satisfied: tqdm in /usr/local/lib/python3.10/dist-packages (from openai-whisper->whisper-timestamped==1.12.20) (4.65.0)\n",
            "Requirement already satisfied: more-itertools in /usr/local/lib/python3.10/dist-packages (from openai-whisper->whisper-timestamped==1.12.20) (9.1.0)\n",
            "Collecting tiktoken==0.3.1 (from openai-whisper->whisper-timestamped==1.12.20)\n",
            "  Downloading tiktoken-0.3.1-cp310-cp310-manylinux_2_17_x86_64.manylinux2014_x86_64.whl (1.7 MB)\n",
            "\u001b[2K     \u001b[90m━━━━━━━━━━━━━━━━━━━━━━━━━━━━━━━━━━━━━━━━\u001b[0m \u001b[32m1.7/1.7 MB\u001b[0m \u001b[31m59.3 MB/s\u001b[0m eta \u001b[36m0:00:00\u001b[0m\n",
            "\u001b[?25hCollecting ffmpeg-python==0.2.0 (from openai-whisper->whisper-timestamped==1.12.20)\n",
            "  Downloading ffmpeg_python-0.2.0-py3-none-any.whl (25 kB)\n",
            "Requirement already satisfied: future in /usr/local/lib/python3.10/dist-packages (from ffmpeg-python==0.2.0->openai-whisper->whisper-timestamped==1.12.20) (0.18.3)\n",
            "Requirement already satisfied: regex>=2022.1.18 in /usr/local/lib/python3.10/dist-packages (from tiktoken==0.3.1->openai-whisper->whisper-timestamped==1.12.20) (2022.10.31)\n",
            "Requirement already satisfied: requests>=2.26.0 in /usr/local/lib/python3.10/dist-packages (from tiktoken==0.3.1->openai-whisper->whisper-timestamped==1.12.20) (2.27.1)\n",
            "Requirement already satisfied: cmake in /usr/local/lib/python3.10/dist-packages (from triton==2.0.0->openai-whisper->whisper-timestamped==1.12.20) (3.25.2)\n",
            "Requirement already satisfied: filelock in /usr/local/lib/python3.10/dist-packages (from triton==2.0.0->openai-whisper->whisper-timestamped==1.12.20) (3.12.0)\n",
            "Requirement already satisfied: lit in /usr/local/lib/python3.10/dist-packages (from triton==2.0.0->openai-whisper->whisper-timestamped==1.12.20) (16.0.5)\n",
            "Requirement already satisfied: llvmlite<0.40,>=0.39.0dev0 in /usr/local/lib/python3.10/dist-packages (from numba->openai-whisper->whisper-timestamped==1.12.20) (0.39.1)\n",
            "Requirement already satisfied: setuptools in /usr/local/lib/python3.10/dist-packages (from numba->openai-whisper->whisper-timestamped==1.12.20) (67.7.2)\n",
            "Requirement already satisfied: typing-extensions in /usr/local/lib/python3.10/dist-packages (from torch->openai-whisper->whisper-timestamped==1.12.20) (4.5.0)\n",
            "Requirement already satisfied: sympy in /usr/local/lib/python3.10/dist-packages (from torch->openai-whisper->whisper-timestamped==1.12.20) (1.11.1)\n",
            "Requirement already satisfied: networkx in /usr/local/lib/python3.10/dist-packages (from torch->openai-whisper->whisper-timestamped==1.12.20) (3.1)\n",
            "Requirement already satisfied: jinja2 in /usr/local/lib/python3.10/dist-packages (from torch->openai-whisper->whisper-timestamped==1.12.20) (3.1.2)\n",
            "Requirement already satisfied: urllib3<1.27,>=1.21.1 in /usr/local/lib/python3.10/dist-packages (from requests>=2.26.0->tiktoken==0.3.1->openai-whisper->whisper-timestamped==1.12.20) (1.26.15)\n",
            "Requirement already satisfied: certifi>=2017.4.17 in /usr/local/lib/python3.10/dist-packages (from requests>=2.26.0->tiktoken==0.3.1->openai-whisper->whisper-timestamped==1.12.20) (2022.12.7)\n",
            "Requirement already satisfied: charset-normalizer~=2.0.0 in /usr/local/lib/python3.10/dist-packages (from requests>=2.26.0->tiktoken==0.3.1->openai-whisper->whisper-timestamped==1.12.20) (2.0.12)\n",
            "Requirement already satisfied: idna<4,>=2.5 in /usr/local/lib/python3.10/dist-packages (from requests>=2.26.0->tiktoken==0.3.1->openai-whisper->whisper-timestamped==1.12.20) (3.4)\n",
            "Requirement already satisfied: MarkupSafe>=2.0 in /usr/local/lib/python3.10/dist-packages (from jinja2->torch->openai-whisper->whisper-timestamped==1.12.20) (2.1.2)\n",
            "Requirement already satisfied: mpmath>=0.19 in /usr/local/lib/python3.10/dist-packages (from sympy->torch->openai-whisper->whisper-timestamped==1.12.20) (1.3.0)\n",
            "Building wheels for collected packages: whisper-timestamped, openai-whisper\n",
            "  Building wheel for whisper-timestamped (setup.py) ... \u001b[?25l\u001b[?25hdone\n",
            "  Created wheel for whisper-timestamped: filename=whisper_timestamped-1.12.20-py3-none-any.whl size=44514 sha256=6911e3d809c22c2e2b6335b21e8eb03be84af4d1108abab5660575ff2e8311e0\n",
            "  Stored in directory: /tmp/pip-ephem-wheel-cache-y_a0iwyk/wheels/9d/fb/03/ae0b1c8b71edda71e33da77333c78117d879361bdd35de48e4\n",
            "  Building wheel for openai-whisper (pyproject.toml) ... \u001b[?25l\u001b[?25hdone\n",
            "  Created wheel for openai-whisper: filename=openai_whisper-20230314-py3-none-any.whl size=796910 sha256=998e2ba44703979f0c0015dfeca3d0f3e677d310de27c1d1b437008d68044062\n",
            "  Stored in directory: /root/.cache/pip/wheels/b2/13/5f/fe8245f6dc59df505879da4b2129932e342f02a80e6b87f27d\n",
            "Successfully built whisper-timestamped openai-whisper\n",
            "Installing collected packages: ffmpeg-python, tiktoken, dtw-python, openai-whisper, whisper-timestamped\n",
            "Successfully installed dtw-python-1.3.0 ffmpeg-python-0.2.0 openai-whisper-20230314 tiktoken-0.3.1 whisper-timestamped-1.12.20\n"
          ]
        }
      ],
      "source": [
        "pip install git+https://github.com/linto-ai/whisper-timestamped"
      ]
    },
    {
      "cell_type": "code",
      "execution_count": 4,
      "metadata": {
        "colab": {
          "base_uri": "https://localhost:8080/"
        },
        "id": "sqjN2px7k6yW",
        "outputId": "4775cd72-f149-45ec-ee23-7b260a873bac"
      },
      "outputs": [
        {
          "output_type": "stream",
          "name": "stdout",
          "text": [
            "Looking in indexes: https://pypi.org/simple, https://us-python.pkg.dev/colab-wheels/public/simple/\n",
            "\u001b[31mERROR: Could not find a version that satisfies the requirement nextpow2 (from versions: none)\u001b[0m\u001b[31m\n",
            "\u001b[0m\u001b[31mERROR: No matching distribution found for nextpow2\u001b[0m\u001b[31m\n",
            "\u001b[0m"
          ]
        }
      ],
      "source": [
        "pip install nextpow2"
      ]
    },
    {
      "cell_type": "code",
      "execution_count": 5,
      "metadata": {
        "colab": {
          "base_uri": "https://localhost:8080/"
        },
        "id": "2QXz_AjDk8KV",
        "outputId": "34c883aa-a9c1-43a0-8867-e75ae5afef82"
      },
      "outputs": [
        {
          "output_type": "stream",
          "name": "stdout",
          "text": [
            "Importing the dtw module. When using in academic works please cite:\n",
            "  T. Giorgino. Computing and Visualizing Dynamic Time Warping Alignments in R: The dtw Package.\n",
            "  J. Stat. Soft., doi:10.18637/jss.v031.i07.\n",
            "\n"
          ]
        },
        {
          "output_type": "execute_result",
          "data": {
            "text/plain": [
              "<firebase_admin.App at 0x7f04c8cd3ac0>"
            ]
          },
          "metadata": {},
          "execution_count": 5
        }
      ],
      "source": [
        "import firebase_admin\n",
        "from firebase_admin import credentials\n",
        "from firebase_admin import storage\n",
        "from firebase_admin import db\n",
        "import whisper_timestamped as whisper\n",
        "import pandas as pd\n",
        "import json\n",
        "import librosa\n",
        "import time\n",
        "\n",
        "\n",
        "# Firebase Admin SDK 인증 정보 로드\n",
        "cred = credentials.Certificate('/content/speechking-787ec-firebase-adminsdk-6mz9r-00885bb0e1.json')  # 서비스 계정 키 파일 경로\n",
        "firebase_admin.initialize_app(cred, {'storageBucket': 'speechking-787ec.appspot.com',\n",
        "                                     'databaseURL' : 'https://speechking-787ec-default-rtdb.firebaseio.com/'})  # 스토리지 버킷 이름"
      ]
    },
    {
      "cell_type": "code",
      "execution_count": 6,
      "metadata": {
        "colab": {
          "base_uri": "https://localhost:8080/",
          "height": 575
        },
        "id": "DNLp3HZfoQN8",
        "outputId": "5042a92e-5f99-48c8-c325-9ec656fa19c7"
      },
      "outputs": [
        {
          "metadata": {
            "tags": null
          },
          "name": "stderr",
          "output_type": "stream",
          "text": [
            "100%|█████████████████████████████████████| 72.1M/72.1M [00:00<00:00, 94.1MiB/s]\n",
            "100%|██████████| 430/430 [00:01<00:00, 246.08frames/s]\n",
            "<ipython-input-6-1cb725b5a957>:29: UserWarning: PySoundFile failed. Trying audioread instead.\n",
            "  y, sr = librosa.load(\"/content/drive/MyDrive/record.wav\", sr=None)\n",
            "/usr/local/lib/python3.10/dist-packages/librosa/core/audio.py:184: FutureWarning: librosa.core.audio.__audioread_load\n",
            "\tDeprecated as of librosa version 0.10.0.\n",
            "\tIt will be removed in librosa version 1.0.\n",
            "  y, sr_native = __audioread_load(path, offset, duration, dtype)\n",
            "<ipython-input-6-1cb725b5a957>:79: FutureWarning: The frame.append method is deprecated and will be removed from pandas in a future version. Use pandas.concat instead.\n",
            "  new_df = new_df.append(row)\n"
          ]
        },
        {
          "metadata": {
            "tags": null
          },
          "name": "stdout",
          "output_type": "stream",
          "text": [
            "제발....연습하세요.\n",
            "소리가 완벽해요!\n",
            "선명하고 강력한 목소리로 잘 발성하셨어요.\n",
            "    text  start   end  confidence       pitch  intensity\n",
            "0    내용과   1.22  1.70       0.477  441.602692   0.076261\n",
            "1   상관없는   1.70  2.40       0.673  346.252777   0.058137\n",
            "2     녹음   2.40  2.78       0.843  330.870026   0.050044\n",
            "3     진행   2.78  3.04       0.863  222.262085   0.058697\n",
            "4  중입니다.   3.04  3.74       0.867  298.424194   0.028594\n"
          ]
        },
        {
          "output_type": "error",
          "ename": "KeyboardInterrupt",
          "evalue": "ignored",
          "traceback": [
            "\u001b[0;31m---------------------------------------------------------------------------\u001b[0m",
            "\u001b[0;31mKeyboardInterrupt\u001b[0m                         Traceback (most recent call last)",
            "\u001b[0;32m<ipython-input-6-1cb725b5a957>\u001b[0m in \u001b[0;36m<cell line: 184>\u001b[0;34m()\u001b[0m\n\u001b[1;32m    198\u001b[0m \u001b[0;34m\u001b[0m\u001b[0m\n\u001b[1;32m    199\u001b[0m     \u001b[0;31m# 잠시 대기\u001b[0m\u001b[0;34m\u001b[0m\u001b[0;34m\u001b[0m\u001b[0m\n\u001b[0;32m--> 200\u001b[0;31m     \u001b[0mtime\u001b[0m\u001b[0;34m.\u001b[0m\u001b[0msleep\u001b[0m\u001b[0;34m(\u001b[0m\u001b[0;36m1\u001b[0m\u001b[0;34m)\u001b[0m  \u001b[0;31m# 필요한 경우 대기 시간 조정\u001b[0m\u001b[0;34m\u001b[0m\u001b[0;34m\u001b[0m\u001b[0m\n\u001b[0m",
            "\u001b[0;31mKeyboardInterrupt\u001b[0m: "
          ]
        }
      ],
      "source": [
        "keyword_ref = db.reference(\"keyword_list\")  #대본 분석에서 강조된 단어 리스트 가져옴\n",
        "\n",
        "data = keyword_ref.get()\n",
        "\n",
        "# Firebase Realtime Database의 'filename' 참조\n",
        "filename_ref = db.reference('filename')\n",
        "\n",
        "# 이전 파일 경로 저장 변수\n",
        "previous_filename = None\n",
        "\n",
        "# 다운로드 및 결과 출력 함수\n",
        "def download_and_transcribe_file(file_path):\n",
        "    # Storage에서 파일 다운로드\n",
        "    bucket = storage.bucket()\n",
        "    blob = bucket.blob(file_path)\n",
        "    output_file_path = \"/content/drive/MyDrive/record.wav\"  # 저장할 파일의 경로와 파일명\n",
        "    time.sleep(2)\n",
        "    blob.download_to_filename(output_file_path)\n",
        "\n",
        "    audio = whisper.load_audio(\"/content/drive/MyDrive/record.wav\")  #가져온 파일을 변수로 저장\n",
        "    model = whisper.load_model(\"tiny\", device=\"cpu\")\n",
        "    result = whisper.transcribe(model, audio, language=\"ko\")\n",
        "\n",
        "    df = pd.concat([pd.DataFrame(segment['words']) for segment in result['segments']])\n",
        "    df = df.reset_index(drop=True)\n",
        "\n",
        "    y, sr = librosa.load(\"/content/drive/MyDrive/record.wav\", sr=None)\n",
        "\n",
        "    keyword_list = set(data)\n",
        "\n",
        "   # 높낮이 추출 함수\n",
        "    def extract_pitch(start_time, end_time):\n",
        "        start_sample = int(start_time * sr)\n",
        "        end_sample = int(end_time * sr)\n",
        "        y_segment = y[start_sample:end_sample]\n",
        "        pitches, magnitudes = librosa.piptrack(y=y_segment, sr=sr)\n",
        "        mean_pitches = []\n",
        "        for t in range(pitches.shape[1]):\n",
        "            nonzero_pitches = pitches[:,t][magnitudes[:,t] > 0]\n",
        "            if len(nonzero_pitches) > 0:\n",
        "                mean_pitches.append(nonzero_pitches.mean())\n",
        "            else:\n",
        "                mean_pitches.append(0)\n",
        "        return mean_pitches\n",
        "\n",
        "\n",
        "    df['pitch'] = df.apply(lambda row: extract_pitch(row['start'], row['end']), axis=1)\n",
        "\n",
        "     # 높낮이 추출 함수2, 세기 추출 함수\n",
        "    def extract_features(start_time, end_time):\n",
        "        start_sample = int(start_time * sr)\n",
        "        end_sample = int(end_time * sr)\n",
        "        y_segment = y[start_sample:end_sample]\n",
        "        pitches, magnitudes = librosa.piptrack(y=y_segment, sr=sr)\n",
        "        nonzero_pitches = pitches[magnitudes > 0]\n",
        "        if nonzero_pitches.size > 0:\n",
        "            mean_pitch = nonzero_pitches.mean()\n",
        "        else:\n",
        "            mean_pitch = 0\n",
        "    \n",
        "        rms_amplitude = librosa.feature.rms(y=y_segment)\n",
        "        intensity = rms_amplitude.mean()\n",
        "    \n",
        "        return mean_pitch, intensity\n",
        "\n",
        "    df[['pitch', 'intensity']] = df.apply(lambda row: pd.Series(extract_features(row['start'], row['end'])), axis=1)\n",
        "\n",
        "    new_df = pd.DataFrame(columns=['text', 'pitch', 'intensity'])\n",
        "\n",
        "   #녹음 단어와 강조 단어 일치하는지 파악\n",
        "    for index, row in df.iterrows():\n",
        "      found_keywords = set()\n",
        "      for keyword in keyword_list:\n",
        "          if keyword in row['text']:\n",
        "              found_keywords.add(keyword)\n",
        "        \n",
        "      if found_keywords:\n",
        "          \n",
        "          keyword_list -= found_keywords\n",
        "          new_df = new_df.append(row)\n",
        "\n",
        "    new_df = new_df.reset_index(drop=True)\n",
        "\n",
        "    score_p= 0\n",
        "    score_i=0\n",
        "\n",
        "   # 높낮이 점수\n",
        "    for index, row in new_df.iterrows():\n",
        "        if row['pitch'] > 750:\n",
        "            score_p += 5/len(new_df)\n",
        "\n",
        "    if 0.0<=score_p<1.0:\n",
        "      score_p= 0\n",
        "      message_p='제발....연습하세요.'\n",
        "    if score_p==1:\n",
        "      score_p=1\n",
        "      message_p=\"강조가 전혀 되지 않았어요.\\n더 많은 연습이 필요해요.\"\n",
        "    if 1.1<=score_p<2.0:\n",
        "      score_p= 1.5\n",
        "      message_p=\"강조가 많이 부족해요.\\n연습을 더 해보세요.\"\n",
        "    if score_p==2:\n",
        "      score_p=2\n",
        "      message_p=\"강조가 부족한 편이에요.\\n좀 더 신경써서 연습해보세요.\"\n",
        "    if 2.1<=score_p<3.0:\n",
        "      score_p= 2.5\n",
        "      message_p=\"약간의 강조가 있지만 아직 부족해요.\\n계속 연습해보세요.\"\n",
        "    if score_p==3:\n",
        "      score_p=3\n",
        "      message_p= \"강조는 있지만 아직 부족해요.\\n조금 더 높게 해보세요.\"\n",
        "    if 3.1<=score_p<4.0:\n",
        "      score_p= 3.5\n",
        "      message_p=\"일부 강조가 보이지만 더 발전할 수 있어요.\\n꾸준한 연습이 필요해요.\"\n",
        "    if score_p==4:\n",
        "      score_p=4\n",
        "      message_p='잘했습니다.\\n한번 더 연습해볼까요?'\n",
        "    if 4.1<=score_p<5.0:\n",
        "      score_p= 4.5\n",
        "      message_p=\"강조가 잘 되고 있어요!\\n조금만 더 높하면 완벽할 거예요.\"\n",
        "    if score_p==5.0:\n",
        "      score_p= 5\n",
        "      message_p=\"강조가 완벽해요!\\n훌륭한 성과를 보여주고 있어요.\"\n",
        "\n",
        "\n",
        "   # 세기 점수\n",
        "    for index, row in new_df.iterrows():\n",
        "        if row['intensity'] > 0.04:\n",
        "            score_i += 5/len(new_df)\n",
        "\n",
        "    if 0.0<=score_i<1.0:\n",
        "      score_i= 0\n",
        "      message_i='크게 말하는 연습이 필요합니다...\\n조용한 곳에서 녹음해주세요'\n",
        "    if score_i==1:\n",
        "      score_i=1\n",
        "      message_i=\"소리가 매우 약해요.\\n더 명확하고 크게 발성해보세요.\"\n",
        "    if 1.1<=score_i<2.0:\n",
        "      score_i= 1.5\n",
        "      message_i=\"소리가 소리가 약간 부족해요.\\n발성을 좀 더 선명하게 해보세요.\"\n",
        "    if score_i==2:\n",
        "      score_i=2\n",
        "      message_i=\"소리가 약해요.\\n더 크게 발성해보세요.\"\n",
        "    if 2.1<=score_i<3.0:\n",
        "      score_i= 2.5\n",
        "      message_i='조금씩 성장 중...\\n강하게 플리즈'\n",
        "    if score_i==3:\n",
        "      score_i=3\n",
        "      message_i=\"소리는 보통 수준이지만,\\n더 크게 발성하는 게 도움이 될 거예요.\"\n",
        "    if 3.1<=score_i<4.0:\n",
        "      score_i= 3.5\n",
        "      message_i=\"소리가 보통 수준이에요.\\n좀 더 선명하고 강하게 발성해보세요.\"\n",
        "    if score_i==4:\n",
        "      score_i=4\n",
        "      message_i=\"좋아요!\\n발성이 명확하고 들리기 쉬워요.\"\n",
        "    if 4.1<=score_i<5.0:\n",
        "      score_i= 4.5\n",
        "      message_i=\"매우 좋아요!\\n명확하고 강력하게 발성하고 계시네요.\"\n",
        "    if score_i==5.0:\n",
        "      score_i= 5\n",
        "      message_i=\"소리가 완벽해요!\\n선명하고 강력한 목소리로 잘 발성하셨어요.\"\n",
        "\n",
        "    print(message_p)\n",
        "    print(message_i)\n",
        "\n",
        "    mp_reference = db.reference('sp')\n",
        "    mp_reference.set(score_p)\n",
        "\n",
        "    mi_reference = db.reference('si')\n",
        "    mi_reference.set(score_i)\n",
        "    \n",
        "    mp_reference = db.reference('mp')\n",
        "    mp_reference.set(message_p)\n",
        "\n",
        "    mi_reference = db.reference('mi')\n",
        "    mi_reference.set(message_i)\n",
        "\n",
        "\n",
        "    # 모든 행과 열이 표시되도록 설정\n",
        "    #pd.set_option('display.max_rows', None)\n",
        "    #pd.set_option('display.max_columns', None)\n",
        "\n",
        "    return df\n",
        "    '''print(\"다운로드 완료!\")\n",
        "\n",
        "    model = whisper.load_model(\"base\")\n",
        "    result = model.transcribe(output_file_path)\n",
        "    print(result[\"text\"])'''\n",
        "\n",
        "# 무한루프로 실행하여 변경 사항 감지\n",
        "while True:\n",
        "    # filename 경로의 데이터 가져오기\n",
        "\n",
        "    filename_ref = db.reference('filename')\n",
        "    filename = filename_ref.get()\n",
        "\n",
        "    # 이전 파일 경로와 현재 파일 경로 비교\n",
        "    if filename != previous_filename:\n",
        "        # 파일 경로가 변경되었을 경우에만 실행\n",
        "        file_path = filename\n",
        "        # Storage에서 파일 다운로드 및 결과 출력\n",
        "        df = download_and_transcribe_file(file_path)\n",
        "        print(df)\n",
        "        previous_filename = filename\n",
        "\n",
        "    # 잠시 대기\n",
        "    time.sleep(1)  # 필요한 경우 대기 시간 조정"
      ]
    }
  ],
  "metadata": {
    "colab": {
      "provenance": []
    },
    "kernelspec": {
      "display_name": "Python 3",
      "name": "python3"
    },
    "language_info": {
      "name": "python"
    }
  },
  "nbformat": 4,
  "nbformat_minor": 0
}